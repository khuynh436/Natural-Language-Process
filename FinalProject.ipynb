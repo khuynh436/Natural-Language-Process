{
 "cells": [
  {
   "cell_type": "code",
   "execution_count": 109,
   "id": "1d508c1b-522b-447c-bca5-8be6c9ae5f5d",
   "metadata": {},
   "outputs": [],
   "source": [
    "import numpy as np\n",
    "import pandas as pd\n",
    "import matplotlib.pyplot as plt\n",
    "import seaborn as sns\n",
    "\n",
    "%matplotlib inline\n",
    "\n",
    "from sklearn.linear_model import LogisticRegression\n",
    "from sklearn.naive_bayes import BernoulliNB, MultinomialNB\n",
    "from sklearn.feature_extraction.text import CountVectorizer, TfidfVectorizer\n",
    "from sklearn.model_selection import train_test_split\n",
    "from sklearn.pipeline import make_pipeline, Pipeline\n",
    "from sklearn.metrics import f1_score\n",
    "from sklearn.metrics import classification_report, confusion_matrix, accuracy_score, recall_score, precision_score"
   ]
  },
  {
   "attachments": {},
   "cell_type": "markdown",
   "id": "e2af9bd4",
   "metadata": {},
   "source": [
    "# Data Preprocessing"
   ]
  },
  {
   "cell_type": "code",
   "execution_count": 110,
   "id": "5f9cbbe5-b5a7-4d2e-a4dd-130c9d8a8da9",
   "metadata": {},
   "outputs": [],
   "source": [
    "# Data set was already split into training and testing sets\n",
    "\n",
    "df_train = pd.read_csv('train.csv')\n",
    "df_test = pd.read_csv('test.csv')"
   ]
  },
  {
   "cell_type": "code",
   "execution_count": 111,
   "id": "39a52157",
   "metadata": {},
   "outputs": [
    {
     "data": {
      "text/plain": [
       "(7613, 5)"
      ]
     },
     "execution_count": 111,
     "metadata": {},
     "output_type": "execute_result"
    }
   ],
   "source": [
    "# Shape of training data \n",
    "df_train.shape"
   ]
  },
  {
   "cell_type": "code",
   "execution_count": 112,
   "id": "b6267883",
   "metadata": {},
   "outputs": [
    {
     "data": {
      "text/plain": [
       "(3263, 4)"
      ]
     },
     "execution_count": 112,
     "metadata": {},
     "output_type": "execute_result"
    }
   ],
   "source": [
    "# Shape of testing data \n",
    "df_test.shape"
   ]
  },
  {
   "cell_type": "code",
   "execution_count": 113,
   "id": "ee2d0290-84eb-4b39-9865-377b5f4b18ef",
   "metadata": {},
   "outputs": [
    {
     "data": {
      "text/html": [
       "<div>\n",
       "<style scoped>\n",
       "    .dataframe tbody tr th:only-of-type {\n",
       "        vertical-align: middle;\n",
       "    }\n",
       "\n",
       "    .dataframe tbody tr th {\n",
       "        vertical-align: top;\n",
       "    }\n",
       "\n",
       "    .dataframe thead th {\n",
       "        text-align: right;\n",
       "    }\n",
       "</style>\n",
       "<table border=\"1\" class=\"dataframe\">\n",
       "  <thead>\n",
       "    <tr style=\"text-align: right;\">\n",
       "      <th></th>\n",
       "      <th>id</th>\n",
       "      <th>target</th>\n",
       "    </tr>\n",
       "  </thead>\n",
       "  <tbody>\n",
       "    <tr>\n",
       "      <th>count</th>\n",
       "      <td>7613.000000</td>\n",
       "      <td>7613.00000</td>\n",
       "    </tr>\n",
       "    <tr>\n",
       "      <th>mean</th>\n",
       "      <td>5441.934848</td>\n",
       "      <td>0.42966</td>\n",
       "    </tr>\n",
       "    <tr>\n",
       "      <th>std</th>\n",
       "      <td>3137.116090</td>\n",
       "      <td>0.49506</td>\n",
       "    </tr>\n",
       "    <tr>\n",
       "      <th>min</th>\n",
       "      <td>1.000000</td>\n",
       "      <td>0.00000</td>\n",
       "    </tr>\n",
       "    <tr>\n",
       "      <th>25%</th>\n",
       "      <td>2734.000000</td>\n",
       "      <td>0.00000</td>\n",
       "    </tr>\n",
       "    <tr>\n",
       "      <th>50%</th>\n",
       "      <td>5408.000000</td>\n",
       "      <td>0.00000</td>\n",
       "    </tr>\n",
       "    <tr>\n",
       "      <th>75%</th>\n",
       "      <td>8146.000000</td>\n",
       "      <td>1.00000</td>\n",
       "    </tr>\n",
       "    <tr>\n",
       "      <th>max</th>\n",
       "      <td>10873.000000</td>\n",
       "      <td>1.00000</td>\n",
       "    </tr>\n",
       "  </tbody>\n",
       "</table>\n",
       "</div>"
      ],
      "text/plain": [
       "                 id      target\n",
       "count   7613.000000  7613.00000\n",
       "mean    5441.934848     0.42966\n",
       "std     3137.116090     0.49506\n",
       "min        1.000000     0.00000\n",
       "25%     2734.000000     0.00000\n",
       "50%     5408.000000     0.00000\n",
       "75%     8146.000000     1.00000\n",
       "max    10873.000000     1.00000"
      ]
     },
     "execution_count": 113,
     "metadata": {},
     "output_type": "execute_result"
    }
   ],
   "source": [
    "# Describing training dataset\n",
    "df_train.describe()"
   ]
  },
  {
   "cell_type": "code",
   "execution_count": 114,
   "id": "44110f47-b57f-4f82-9dcf-f0472bad126d",
   "metadata": {},
   "outputs": [
    {
     "data": {
      "text/html": [
       "<div>\n",
       "<style scoped>\n",
       "    .dataframe tbody tr th:only-of-type {\n",
       "        vertical-align: middle;\n",
       "    }\n",
       "\n",
       "    .dataframe tbody tr th {\n",
       "        vertical-align: top;\n",
       "    }\n",
       "\n",
       "    .dataframe thead th {\n",
       "        text-align: right;\n",
       "    }\n",
       "</style>\n",
       "<table border=\"1\" class=\"dataframe\">\n",
       "  <thead>\n",
       "    <tr style=\"text-align: right;\">\n",
       "      <th></th>\n",
       "      <th>id</th>\n",
       "    </tr>\n",
       "  </thead>\n",
       "  <tbody>\n",
       "    <tr>\n",
       "      <th>count</th>\n",
       "      <td>3263.000000</td>\n",
       "    </tr>\n",
       "    <tr>\n",
       "      <th>mean</th>\n",
       "      <td>5427.152927</td>\n",
       "    </tr>\n",
       "    <tr>\n",
       "      <th>std</th>\n",
       "      <td>3146.427221</td>\n",
       "    </tr>\n",
       "    <tr>\n",
       "      <th>min</th>\n",
       "      <td>0.000000</td>\n",
       "    </tr>\n",
       "    <tr>\n",
       "      <th>25%</th>\n",
       "      <td>2683.000000</td>\n",
       "    </tr>\n",
       "    <tr>\n",
       "      <th>50%</th>\n",
       "      <td>5500.000000</td>\n",
       "    </tr>\n",
       "    <tr>\n",
       "      <th>75%</th>\n",
       "      <td>8176.000000</td>\n",
       "    </tr>\n",
       "    <tr>\n",
       "      <th>max</th>\n",
       "      <td>10875.000000</td>\n",
       "    </tr>\n",
       "  </tbody>\n",
       "</table>\n",
       "</div>"
      ],
      "text/plain": [
       "                 id\n",
       "count   3263.000000\n",
       "mean    5427.152927\n",
       "std     3146.427221\n",
       "min        0.000000\n",
       "25%     2683.000000\n",
       "50%     5500.000000\n",
       "75%     8176.000000\n",
       "max    10875.000000"
      ]
     },
     "execution_count": 114,
     "metadata": {},
     "output_type": "execute_result"
    }
   ],
   "source": [
    "# Describing testing dataset\n",
    "df_test.describe()"
   ]
  },
  {
   "cell_type": "code",
   "execution_count": 115,
   "id": "79e67523",
   "metadata": {},
   "outputs": [
    {
     "data": {
      "text/html": [
       "<div>\n",
       "<style scoped>\n",
       "    .dataframe tbody tr th:only-of-type {\n",
       "        vertical-align: middle;\n",
       "    }\n",
       "\n",
       "    .dataframe tbody tr th {\n",
       "        vertical-align: top;\n",
       "    }\n",
       "\n",
       "    .dataframe thead th {\n",
       "        text-align: right;\n",
       "    }\n",
       "</style>\n",
       "<table border=\"1\" class=\"dataframe\">\n",
       "  <thead>\n",
       "    <tr style=\"text-align: right;\">\n",
       "      <th></th>\n",
       "      <th>id</th>\n",
       "      <th>keyword</th>\n",
       "      <th>location</th>\n",
       "      <th>text</th>\n",
       "      <th>target</th>\n",
       "    </tr>\n",
       "  </thead>\n",
       "  <tbody>\n",
       "    <tr>\n",
       "      <th>0</th>\n",
       "      <td>1</td>\n",
       "      <td>NaN</td>\n",
       "      <td>NaN</td>\n",
       "      <td>Our Deeds are the Reason of this #earthquake M...</td>\n",
       "      <td>1</td>\n",
       "    </tr>\n",
       "    <tr>\n",
       "      <th>1</th>\n",
       "      <td>4</td>\n",
       "      <td>NaN</td>\n",
       "      <td>NaN</td>\n",
       "      <td>Forest fire near La Ronge Sask. Canada</td>\n",
       "      <td>1</td>\n",
       "    </tr>\n",
       "    <tr>\n",
       "      <th>2</th>\n",
       "      <td>5</td>\n",
       "      <td>NaN</td>\n",
       "      <td>NaN</td>\n",
       "      <td>All residents asked to 'shelter in place' are ...</td>\n",
       "      <td>1</td>\n",
       "    </tr>\n",
       "    <tr>\n",
       "      <th>3</th>\n",
       "      <td>6</td>\n",
       "      <td>NaN</td>\n",
       "      <td>NaN</td>\n",
       "      <td>13,000 people receive #wildfires evacuation or...</td>\n",
       "      <td>1</td>\n",
       "    </tr>\n",
       "    <tr>\n",
       "      <th>4</th>\n",
       "      <td>7</td>\n",
       "      <td>NaN</td>\n",
       "      <td>NaN</td>\n",
       "      <td>Just got sent this photo from Ruby #Alaska as ...</td>\n",
       "      <td>1</td>\n",
       "    </tr>\n",
       "  </tbody>\n",
       "</table>\n",
       "</div>"
      ],
      "text/plain": [
       "   id keyword location                                               text  \\\n",
       "0   1     NaN      NaN  Our Deeds are the Reason of this #earthquake M...   \n",
       "1   4     NaN      NaN             Forest fire near La Ronge Sask. Canada   \n",
       "2   5     NaN      NaN  All residents asked to 'shelter in place' are ...   \n",
       "3   6     NaN      NaN  13,000 people receive #wildfires evacuation or...   \n",
       "4   7     NaN      NaN  Just got sent this photo from Ruby #Alaska as ...   \n",
       "\n",
       "   target  \n",
       "0       1  \n",
       "1       1  \n",
       "2       1  \n",
       "3       1  \n",
       "4       1  "
      ]
     },
     "execution_count": 115,
     "metadata": {},
     "output_type": "execute_result"
    }
   ],
   "source": [
    "# Top 5 of training set\n",
    "df_train.head()"
   ]
  },
  {
   "cell_type": "code",
   "execution_count": 116,
   "id": "153d9f03",
   "metadata": {},
   "outputs": [],
   "source": [
    "#  Function to calculate total of missing values in dataset\n",
    "def missing_values(df):\n",
    "    print(\"Number of records with missing location:\",df.location.isna().sum())\n",
    "    print(\"Number of records with missing keywords:\",df.keyword.isna().sum())\n",
    "    "
   ]
  },
  {
   "cell_type": "code",
   "execution_count": 117,
   "id": "fe48b151",
   "metadata": {},
   "outputs": [
    {
     "name": "stdout",
     "output_type": "stream",
     "text": [
      "Number of records with missing location: 2533\n",
      "Number of records with missing keywords: 61\n"
     ]
    }
   ],
   "source": [
    "# Checking missing values of training set\n",
    "missing_values(df_train)"
   ]
  },
  {
   "cell_type": "code",
   "execution_count": 118,
   "id": "e50a4a8d",
   "metadata": {},
   "outputs": [
    {
     "name": "stdout",
     "output_type": "stream",
     "text": [
      "Number of records with missing location: 1105\n",
      "Number of records with missing keywords: 26\n"
     ]
    }
   ],
   "source": [
    "# Missing values of testing set\n",
    "missing_values(df_test)"
   ]
  },
  {
   "cell_type": "code",
   "execution_count": 119,
   "id": "ddf607df",
   "metadata": {},
   "outputs": [
    {
     "name": "stdout",
     "output_type": "stream",
     "text": [
      "fatalities    45\n",
      "deluge        42\n",
      "armageddon    42\n",
      "sinking       41\n",
      "damage        41\n",
      "Name: keyword, dtype: int64\n"
     ]
    }
   ],
   "source": [
    "# Check for keywords count\n",
    "keywords = df_train['keyword'].value_counts()\n",
    "print(keywords.head())"
   ]
  },
  {
   "cell_type": "code",
   "execution_count": 120,
   "id": "143e7b07",
   "metadata": {},
   "outputs": [
    {
     "name": "stdout",
     "output_type": "stream",
     "text": [
      "USA              104\n",
      "New York          71\n",
      "United States     50\n",
      "London            45\n",
      "Canada            29\n",
      "Name: location, dtype: int64\n"
     ]
    }
   ],
   "source": [
    "# Check location counts\n",
    "locations = df_train['location'].value_counts()\n",
    "print(locations.head())"
   ]
  },
  {
   "cell_type": "code",
   "execution_count": 121,
   "metadata": {},
   "outputs": [
    {
     "data": {
      "text/plain": [
       "<AxesSubplot: xlabel='location'>"
      ]
     },
     "execution_count": 121,
     "metadata": {},
     "output_type": "execute_result"
    },
    {
     "data": {
      "image/png": "[encoded data removed]",
      "text/plain": [
       "<Figure size 640x480 with 1 Axes>"
      ]
     },
     "metadata": {},
     "output_type": "display_data"
    }
   ],
   "source": [
    "#Create barchart for locations in train set using seaborn\n",
    "sns.barplot(y=df_train['location'].value_counts()[:10].index,x=df_train['location'].value_counts()[:10],\n",
    "            orient='h')"
   ]
  },
  {
   "cell_type": "code",
   "execution_count": 122,
   "id": "3feab3aa",
   "metadata": {},
   "outputs": [
    {
     "data": {
      "text/plain": [
       "<AxesSubplot: xlabel='location'>"
      ]
     },
     "execution_count": 122,
     "metadata": {},
     "output_type": "execute_result"
    },
    {
     "data": {
      "image/png": "[encoded data removed]",
      "text/plain": [
       "<Figure size 640x480 with 1 Axes>"
      ]
     },
     "metadata": {},
     "output_type": "display_data"
    }
   ],
   "source": [
    "#Create barchart for locations in test set using seaborn\n",
    "sns.barplot(y=df_test['location'].value_counts()[:10].index,x=df_test['location'].value_counts()[:10],\n",
    "            orient='h')"
   ]
  },
  {
   "attachments": {},
   "cell_type": "markdown",
   "id": "09f6f8b1",
   "metadata": {},
   "source": [
    "Group By"
   ]
  },
  {
   "cell_type": "code",
   "execution_count": 123,
   "id": "a32f8a95",
   "metadata": {},
   "outputs": [
    {
     "data": {
      "text/html": [
       "<div>\n",
       "<style scoped>\n",
       "    .dataframe tbody tr th:only-of-type {\n",
       "        vertical-align: middle;\n",
       "    }\n",
       "\n",
       "    .dataframe tbody tr th {\n",
       "        vertical-align: top;\n",
       "    }\n",
       "\n",
       "    .dataframe thead th {\n",
       "        text-align: right;\n",
       "    }\n",
       "</style>\n",
       "<table border=\"1\" class=\"dataframe\">\n",
       "  <thead>\n",
       "    <tr style=\"text-align: right;\">\n",
       "      <th></th>\n",
       "      <th>id</th>\n",
       "      <th>keyword</th>\n",
       "      <th>location</th>\n",
       "      <th>text</th>\n",
       "    </tr>\n",
       "    <tr>\n",
       "      <th>target</th>\n",
       "      <th></th>\n",
       "      <th></th>\n",
       "      <th></th>\n",
       "      <th></th>\n",
       "    </tr>\n",
       "  </thead>\n",
       "  <tbody>\n",
       "    <tr>\n",
       "      <th>0</th>\n",
       "      <td>4342</td>\n",
       "      <td>4323</td>\n",
       "      <td>2884</td>\n",
       "      <td>4342</td>\n",
       "    </tr>\n",
       "    <tr>\n",
       "      <th>1</th>\n",
       "      <td>3271</td>\n",
       "      <td>3229</td>\n",
       "      <td>2196</td>\n",
       "      <td>3271</td>\n",
       "    </tr>\n",
       "  </tbody>\n",
       "</table>\n",
       "</div>"
      ],
      "text/plain": [
       "          id  keyword  location  text\n",
       "target                               \n",
       "0       4342     4323      2884  4342\n",
       "1       3271     3229      2196  3271"
      ]
     },
     "execution_count": 123,
     "metadata": {},
     "output_type": "execute_result"
    }
   ],
   "source": [
    "# Groupby \n",
    "df_train.groupby('target').count()"
   ]
  },
  {
   "cell_type": "code",
   "execution_count": 124,
   "id": "ba28a6fb",
   "metadata": {},
   "outputs": [
    {
     "data": {
      "image/png": "[encoded data removed]",
      "text/plain": [
       "<Figure size 640x480 with 1 Axes>"
      ]
     },
     "metadata": {},
     "output_type": "display_data"
    }
   ],
   "source": [
    "# Group the tweets by disaster or not for the training data\n",
    "grouped = df_train.groupby(['target'])['text'].count()\n",
    "\n",
    "# plot the same as bar chart\n",
    "grouped.plot(kind='bar')\n",
    "plt.title('Disaster Tweet frequency chart for training data')\n",
    "plt.xlabel('Disaster or not')\n",
    "plt.ylabel('Count')\n",
    "plt.show()"
   ]
  },
  {
   "attachments": {},
   "cell_type": "markdown",
   "id": "9df0a81a",
   "metadata": {},
   "source": [
    "Tweet Lengths"
   ]
  },
  {
   "cell_type": "code",
   "execution_count": 125,
   "id": "6a961637",
   "metadata": {},
   "outputs": [
    {
     "data": {
      "text/html": [
       "<div>\n",
       "<style scoped>\n",
       "    .dataframe tbody tr th:only-of-type {\n",
       "        vertical-align: middle;\n",
       "    }\n",
       "\n",
       "    .dataframe tbody tr th {\n",
       "        vertical-align: top;\n",
       "    }\n",
       "\n",
       "    .dataframe thead th {\n",
       "        text-align: right;\n",
       "    }\n",
       "</style>\n",
       "<table border=\"1\" class=\"dataframe\">\n",
       "  <thead>\n",
       "    <tr style=\"text-align: right;\">\n",
       "      <th></th>\n",
       "      <th>id</th>\n",
       "      <th>keyword</th>\n",
       "      <th>location</th>\n",
       "      <th>text</th>\n",
       "      <th>target</th>\n",
       "      <th>length</th>\n",
       "    </tr>\n",
       "  </thead>\n",
       "  <tbody>\n",
       "    <tr>\n",
       "      <th>0</th>\n",
       "      <td>1</td>\n",
       "      <td>NaN</td>\n",
       "      <td>NaN</td>\n",
       "      <td>Our Deeds are the Reason of this #earthquake M...</td>\n",
       "      <td>1</td>\n",
       "      <td>69</td>\n",
       "    </tr>\n",
       "    <tr>\n",
       "      <th>1</th>\n",
       "      <td>4</td>\n",
       "      <td>NaN</td>\n",
       "      <td>NaN</td>\n",
       "      <td>Forest fire near La Ronge Sask. Canada</td>\n",
       "      <td>1</td>\n",
       "      <td>38</td>\n",
       "    </tr>\n",
       "    <tr>\n",
       "      <th>2</th>\n",
       "      <td>5</td>\n",
       "      <td>NaN</td>\n",
       "      <td>NaN</td>\n",
       "      <td>All residents asked to 'shelter in place' are ...</td>\n",
       "      <td>1</td>\n",
       "      <td>133</td>\n",
       "    </tr>\n",
       "    <tr>\n",
       "      <th>3</th>\n",
       "      <td>6</td>\n",
       "      <td>NaN</td>\n",
       "      <td>NaN</td>\n",
       "      <td>13,000 people receive #wildfires evacuation or...</td>\n",
       "      <td>1</td>\n",
       "      <td>65</td>\n",
       "    </tr>\n",
       "    <tr>\n",
       "      <th>4</th>\n",
       "      <td>7</td>\n",
       "      <td>NaN</td>\n",
       "      <td>NaN</td>\n",
       "      <td>Just got sent this photo from Ruby #Alaska as ...</td>\n",
       "      <td>1</td>\n",
       "      <td>88</td>\n",
       "    </tr>\n",
       "  </tbody>\n",
       "</table>\n",
       "</div>"
      ],
      "text/plain": [
       "   id keyword location                                               text  \\\n",
       "0   1     NaN      NaN  Our Deeds are the Reason of this #earthquake M...   \n",
       "1   4     NaN      NaN             Forest fire near La Ronge Sask. Canada   \n",
       "2   5     NaN      NaN  All residents asked to 'shelter in place' are ...   \n",
       "3   6     NaN      NaN  13,000 people receive #wildfires evacuation or...   \n",
       "4   7     NaN      NaN  Just got sent this photo from Ruby #Alaska as ...   \n",
       "\n",
       "   target  length  \n",
       "0       1      69  \n",
       "1       1      38  \n",
       "2       1     133  \n",
       "3       1      65  \n",
       "4       1      88  "
      ]
     },
     "execution_count": 125,
     "metadata": {},
     "output_type": "execute_result"
    }
   ],
   "source": [
    "# Calculate tweet lengths\n",
    "df_train['length'] = df_train['text'].apply(lambda x : len(x))\n",
    "df_train.head() # Check new columns"
   ]
  },
  {
   "cell_type": "code",
   "execution_count": 126,
   "id": "5dfc37d4",
   "metadata": {},
   "outputs": [
    {
     "data": {
      "text/plain": [
       "<seaborn.axisgrid.FacetGrid at 0x26af4ff51d0>"
      ]
     },
     "execution_count": 126,
     "metadata": {},
     "output_type": "execute_result"
    },
    {
     "data": {
      "image/png": "[encoded data removed]",
      "text/plain": [
       "<Figure size 500x500 with 1 Axes>"
      ]
     },
     "metadata": {},
     "output_type": "display_data"
    }
   ],
   "source": [
    "# Visualization of Tweet Lengths in training data\n",
    "# Code source: https://seaborn.pydata.org/generated/seaborn.displot.html\n",
    "\n",
    "sns.displot(data=df_train['length'], kde=True)"
   ]
  },
  {
   "cell_type": "code",
   "execution_count": 127,
   "id": "c936d249",
   "metadata": {},
   "outputs": [],
   "source": [
    "# Dropping unnecessary columns\n",
    "df_train = df_train.drop(columns=['keyword', 'location', 'length'])"
   ]
  },
  {
   "attachments": {},
   "cell_type": "markdown",
   "id": "8fe98be9",
   "metadata": {},
   "source": [
    "# Text Vectorization"
   ]
  },
  {
   "cell_type": "code",
   "execution_count": 128,
   "id": "dd3f3683",
   "metadata": {},
   "outputs": [
    {
     "name": "stderr",
     "output_type": "stream",
     "text": [
      "[nltk_data] Downloading package stopwords to\n",
      "[nltk_data]     C:\\Users\\khuyn\\AppData\\Roaming\\nltk_data...\n",
      "[nltk_data]   Package stopwords is already up-to-date!\n"
     ]
    }
   ],
   "source": [
    "# Import string\n",
    "import string\n",
    "\n",
    "# Import nltk (Natural Language Toolkit)\n",
    "import nltk\n",
    "nltk.download('stopwords')\n",
    "\n",
    "# NLTK packages\n",
    "from nltk.corpus import stopwords\n",
    "from nltk import PorterStemmer as Stemmer\n",
    "\n",
    "# Code source for text preprocessing: \n",
    "# https://www.analyticsvidhya.com/blog/2021/06/text-preprocessing-in-nlp-with-python-codes/\n",
    "\n",
    "def preprocess(text):\n",
    "    # lowercase \n",
    "    text = text.lower()\n",
    "    \n",
    "    # Remove punctuation\n",
    "    text = ''.join([t for t in text if t not in string.punctuation])\n",
    "    \n",
    "    # Removing stopwords since they do not add value to this analysis\n",
    "    # Code source: https://pythonprogramming.net/stop-words-nltk-tutorial/\n",
    "    text = [t for t in text.split() if t not in stopwords.words('english')]\n",
    "    \n",
    "    # Stemming is used to reducing words to their root \n",
    "    # Code source: https://www.kaggle.com/code/sudalairajkumar/getting-started-with-text-preprocessing\n",
    "    stemmer = Stemmer()\n",
    "    text = [stemmer.stem(t) for t in text]\n",
    "    \n",
    "    # return text \n",
    "    return text\n",
    "\n",
    "# The function above is used to normalize and tokenize \n",
    "# texts that were found in the 'Text' column. \n",
    "# we cleaned the 'Text' column as much as we could by \n",
    "# using the NLTK (Natural Language Toolkit) library \n",
    "# that we found in their documentation (https://www.nltk.org/). \n",
    "# By cleaning this up, we are able reduce \n",
    "# the size of the vocab when we input into our machine learning model. "
   ]
  },
  {
   "cell_type": "code",
   "execution_count": 129,
   "id": "74d81ebe",
   "metadata": {},
   "outputs": [
    {
     "data": {
      "text/plain": [
       "0     [deed, reason, earthquak, may, allah, forgiv, us]\n",
       "1          [forest, fire, near, la, rong, sask, canada]\n",
       "2     [resid, ask, shelter, place, notifi, offic, ev...\n",
       "3     [13000, peopl, receiv, wildfir, evacu, order, ...\n",
       "4     [got, sent, photo, rubi, alaska, smoke, wildfi...\n",
       "5     [rockyfir, updat, california, hwi, 20, close, ...\n",
       "6     [flood, disast, heavi, rain, caus, flash, floo...\n",
       "7                      [im, top, hill, see, fire, wood]\n",
       "8     [there, emerg, evacu, happen, build, across, s...\n",
       "9                     [im, afraid, tornado, come, area]\n",
       "10                 [three, peopl, die, heat, wave, far]\n",
       "11    [haha, south, tampa, get, flood, hah, wait, se...\n",
       "12    [rain, flood, florida, tampabay, tampa, 18, 19...\n",
       "13                  [flood, bago, myanmar, arriv, bago]\n",
       "14    [damag, school, bu, 80, multi, car, crash, break]\n",
       "15                                          [what, man]\n",
       "16                                        [love, fruit]\n",
       "17                                       [summer, love]\n",
       "18                                          [car, fast]\n",
       "19                                    [goooooooaaaaaal]\n",
       "Name: text, dtype: object"
      ]
     },
     "execution_count": 129,
     "metadata": {},
     "output_type": "execute_result"
    }
   ],
   "source": [
    "# Test with dataset, the first 20 rows\n",
    "df_train['text'][:20].apply(preprocess)"
   ]
  },
  {
   "cell_type": "code",
   "execution_count": 130,
   "id": "9e7b1083",
   "metadata": {},
   "outputs": [
    {
     "data": {
      "text/plain": [
       "0                         [happen, terribl, car, crash]\n",
       "1     [heard, earthquak, differ, citi, stay, safe, e...\n",
       "2     [forest, fire, spot, pond, gees, flee, across,...\n",
       "3                   [apocalyps, light, spokan, wildfir]\n",
       "4          [typhoon, soudelor, kill, 28, china, taiwan]\n",
       "5                                [shakingit, earthquak]\n",
       "6     [theyd, probabl, still, show, life, arsen, yes...\n",
       "7                                                 [hey]\n",
       "8                                           [nice, hat]\n",
       "9                                                [fuck]\n",
       "10                                   [dont, like, cold]\n",
       "11                                   [nooooooooo, dont]\n",
       "12                                         [dont, tell]\n",
       "13                                                   []\n",
       "14                                             [awesom]\n",
       "15    [birmingham, wholesal, market, ablaz, bbc, new...\n",
       "16           [sunkxssedharri, wear, short, race, ablaz]\n",
       "17    [previouslyondoyintv, toke, makinwaûª, marria...\n",
       "18    [check, httptcoroi2nsmejj, httptco3tj8zjin21, ...\n",
       "19    [psa, iûªm, split, person, techi, follow, abl...\n",
       "Name: text, dtype: object"
      ]
     },
     "execution_count": 130,
     "metadata": {},
     "output_type": "execute_result"
    }
   ],
   "source": [
    "# Test with dataset, the first 20 rows\n",
    "df_test['text'][:20].apply(preprocess)"
   ]
  },
  {
   "cell_type": "code",
   "execution_count": 131,
   "id": "2399a8ba",
   "metadata": {},
   "outputs": [],
   "source": [
    "# Fit transform\n",
    "TFID = TfidfVectorizer(analyzer=preprocess)\n",
    "fit = TFID.fit_transform(df_train['text'])\n",
    "fits = TFID.fit_transform(df_test['text'])"
   ]
  },
  {
   "cell_type": "code",
   "execution_count": 132,
   "id": "28f64216",
   "metadata": {},
   "outputs": [
    {
     "name": "stdout",
     "output_type": "stream",
     "text": [
      "Deputies: Man shot before Brighton home set ablaze http://t.co/gWNRhMSO8k\n"
     ]
    }
   ],
   "source": [
    "# Checking values\n",
    "content = df_train.iloc[50]['text'] # Randomly chose 50th index\n",
    "print(content) # Print message"
   ]
  },
  {
   "cell_type": "code",
   "execution_count": 133,
   "id": "d67b62f7",
   "metadata": {},
   "outputs": [
    {
     "name": "stdout",
     "output_type": "stream",
     "text": [
      "index\tidf\ttfidf\tterm\n",
      "9747\t6.69281\t1.00000\ttext\n"
     ]
    }
   ],
   "source": [
    "# Assigning texts to vectors\n",
    "\n",
    "# Code source:\n",
    "# https://github.com/scikit-learn/scikit-learn/blob/8c9c1f27b/sklearn/feature_extraction/text.py#L1470\n",
    "\n",
    "# Code source 2: \n",
    "# https://www.kaggle.com/code/jeffysonar/spam-filter-using-naive-bayes-classifier/notebook\n",
    "\n",
    "# Inputing \"content\" into transform function and adding to an array\n",
    "tfid = TFID.transform(['text']).toarray()[0]\n",
    "\n",
    "print('index\\tidf\\ttfidf\\tterm') # Print in this order\n",
    "\n",
    "# Loop function to assign different values to its term. \n",
    "for i in range(len(tfid)):\n",
    "    if tfid[i] != 0:\n",
    "        print(i, format(TFID\n",
    "                        .idf_[i], '.5f'), format(tfid[i], \n",
    "                                                 '.5f'), \n",
    "                        TFID.get_feature_names_out()[i],sep='\\t')"
   ]
  },
  {
   "attachments": {},
   "cell_type": "markdown",
   "id": "5dd43043",
   "metadata": {},
   "source": [
    "# Logistic Regression"
   ]
  },
  {
   "cell_type": "code",
   "execution_count": 134,
   "id": "6f4dbea9",
   "metadata": {},
   "outputs": [
    {
     "name": "stdout",
     "output_type": "stream",
     "text": [
      "111497\n",
      "7613\n"
     ]
    }
   ],
   "source": [
    "# Check size of text column\n",
    "training_texts = df_train['text']\n",
    "\n",
    "vectorizer = TfidfVectorizer()\n",
    "X_train = vectorizer.fit_transform(training_texts)\n",
    "y_train = df_train['target']\n",
    "X_test = vectorizer.transform(df_test['text'])\n",
    "\n",
    "print(X_train.size)\n",
    "print(y_train.size)"
   ]
  },
  {
   "cell_type": "code",
   "execution_count": 135,
   "id": "a5552bd7",
   "metadata": {},
   "outputs": [],
   "source": [
    "# Splitting the data\n",
    "X_train, X_test, y_train, y_test = train_test_split(X_train, y_train, test_size=0.2, random_state=42)"
   ]
  },
  {
   "cell_type": "code",
   "execution_count": 136,
   "id": "0d1ff67e-a59e-4d69-8f42-a86a64f24ade",
   "metadata": {},
   "outputs": [
    {
     "name": "stdout",
     "output_type": "stream",
     "text": [
      "              precision    recall  f1-score   support\n",
      "\n",
      "           0       0.78      0.90      0.84       874\n",
      "           1       0.83      0.67      0.74       649\n",
      "\n",
      "    accuracy                           0.80      1523\n",
      "   macro avg       0.81      0.78      0.79      1523\n",
      "weighted avg       0.80      0.80      0.80      1523\n",
      "\n"
     ]
    }
   ],
   "source": [
    "# Logistic regression model for predicting diaster in tweets \n",
    "log = LogisticRegression()\n",
    "\n",
    "# Train the model on the training data\n",
    "log.fit(X_train, y_train)\n",
    "\n",
    "# Make predictions on the test data\n",
    "log_pred = log.predict(X_test)\n",
    "print(classification_report(y_test, log_pred))"
   ]
  },
  {
   "attachments": {},
   "cell_type": "markdown",
   "id": "5f3ac23c",
   "metadata": {},
   "source": [
    "# Multinomial NB"
   ]
  },
  {
   "cell_type": "code",
   "execution_count": 137,
   "id": "f8ce16ae",
   "metadata": {},
   "outputs": [
    {
     "name": "stdout",
     "output_type": "stream",
     "text": [
      "              precision    recall  f1-score   support\n",
      "\n",
      "           0       0.77      0.93      0.84       874\n",
      "           1       0.86      0.63      0.73       649\n",
      "\n",
      "    accuracy                           0.80      1523\n",
      "   macro avg       0.82      0.78      0.78      1523\n",
      "weighted avg       0.81      0.80      0.79      1523\n",
      "\n"
     ]
    }
   ],
   "source": [
    "mnb = MultinomialNB()\n",
    "\n",
    "# Fitting the model\n",
    "mnb.fit(X_train, y_train)\n",
    "\n",
    "# Evaluate the Multinomial NB model on the testing set\n",
    "nb_pred = mnb.predict(X_test)\n",
    "print(classification_report(y_test, nb_pred))"
   ]
  },
  {
   "attachments": {},
   "cell_type": "markdown",
   "id": "e5842229",
   "metadata": {},
   "source": [
    "# SVM"
   ]
  },
  {
   "cell_type": "code",
   "execution_count": 138,
   "id": "4bbfe3d3-8d3a-4df4-8a03-ada3b0f382ec",
   "metadata": {},
   "outputs": [
    {
     "name": "stdout",
     "output_type": "stream",
     "text": [
      "              precision    recall  f1-score   support\n",
      "\n",
      "           0       0.78      0.93      0.85       874\n",
      "           1       0.87      0.65      0.75       649\n",
      "\n",
      "    accuracy                           0.81      1523\n",
      "   macro avg       0.83      0.79      0.80      1523\n",
      "weighted avg       0.82      0.81      0.81      1523\n",
      "\n"
     ]
    }
   ],
   "source": [
    "from sklearn.svm import SVC\n",
    "from sklearn.metrics import silhouette_score, accuracy_score, classification_report\n",
    "\n",
    "# Building and training SVM model\n",
    "svm = SVC()\n",
    "\n",
    "# Fitting the model\n",
    "svm.fit(X_train, y_train)\n",
    "\n",
    "# Evaluate the SVM model on the testing set\n",
    "svm_pred = svm.predict(X_test)\n",
    "print(classification_report(y_test, svm_pred))"
   ]
  },
  {
   "attachments": {},
   "cell_type": "markdown",
   "id": "d8fd95e8",
   "metadata": {},
   "source": [
    "# Random Forest"
   ]
  },
  {
   "cell_type": "code",
   "execution_count": 139,
   "id": "8c2da5b0",
   "metadata": {},
   "outputs": [
    {
     "name": "stdout",
     "output_type": "stream",
     "text": [
      "              precision    recall  f1-score   support\n",
      "\n",
      "           0       0.75      0.93      0.83       874\n",
      "           1       0.86      0.57      0.69       649\n",
      "\n",
      "    accuracy                           0.78      1523\n",
      "   macro avg       0.80      0.75      0.76      1523\n",
      "weighted avg       0.80      0.78      0.77      1523\n",
      "\n"
     ]
    }
   ],
   "source": [
    "from sklearn.ensemble import RandomForestClassifier\n",
    "\n",
    "# Building Random Forest model\n",
    "rf = RandomForestClassifier(n_estimators=100, random_state=42)\n",
    "rf.fit(X_train, y_train)\n",
    "\n",
    "# Evaluate the classifier\n",
    "rf_pred = rf.predict(X_test)\n",
    "print(classification_report(y_test, rf_pred))"
   ]
  },
  {
   "attachments": {},
   "cell_type": "markdown",
   "id": "cbbac44d",
   "metadata": {},
   "source": [
    "# Neural Networks"
   ]
  },
  {
   "cell_type": "code",
   "execution_count": 140,
   "id": "cba48c0b",
   "metadata": {},
   "outputs": [],
   "source": [
    "from sklearn.preprocessing import StandardScaler\n",
    "\n",
    "# Standardize the  dataset\n",
    "scaler = StandardScaler(with_mean=False)\n",
    "X_train = scaler.fit_transform(X_train)\n",
    "X_test = scaler.transform(X_test)"
   ]
  },
  {
   "cell_type": "code",
   "execution_count": 160,
   "id": "3c0f6d41",
   "metadata": {},
   "outputs": [],
   "source": [
    "import tensorflow as tf\n",
    "from tensorflow import keras\n",
    "from tensorflow.keras.preprocessing.text import Tokenizer\n",
    "from tensorflow.keras.preprocessing.sequence import pad_sequences\n",
    "from tensorflow.keras import layers\n",
    "from tensorflow.keras.layers import Dense, Embedding, Flatten, Dropout\n",
    "from keras.models import Sequential\n"
   ]
  },
  {
   "cell_type": "code",
   "execution_count": 173,
   "id": "d455e510",
   "metadata": {},
   "outputs": [],
   "source": [
    "# Tokenizer documentation: https://www.tensorflow.org/api_docs/python/tf/keras/preprocessing/text/Tokenizer\n",
    "# pad_sequences documentation: https://www.tensorflow.org/api_docs/python/tf/keras/preprocessing/sequence/pad_sequences\n",
    "# Sequential model documentation: https://www.tensorflow.org/api_docs/python/tf/keras/Sequential\n",
    "# Embedding layer documentation: https://www.tensorflow.org/api_docs/python/tf/keras/layers/Embedding\n",
    "# Dense layer documentation: https://www.tensorflow.org/api_docs/python/tf/keras/layers/Dense\n",
    "# Flatten layer documentation: https://www.tensorflow.org/api_docs/python/tf/keras/layers/Flatten\n",
    "# Dropout layer documentation: https://www.tensorflow.org/api_docs/python/tf/keras/layers/Dropout\n",
    "\n",
    "# Preprocess the text data\n",
    "tokenizer = Tokenizer(num_words=10000, oov_token='<OOV>')\n",
    "tokenizer.fit_on_texts(df_train['text'])\n",
    "tokenizer.fit_on_texts(df_test['text'])\n",
    "train_sequences = tokenizer.texts_to_sequences(df_train['text'])\n",
    "train_padded = pad_sequences(train_sequences, padding='post', truncating='post')\n",
    "test_sequences = tokenizer.texts_to_sequences(df_test['text'])\n",
    "test_padded = pad_sequences(test_sequences, padding='post', truncating='post')\n"
   ]
  },
  {
   "cell_type": "code",
   "execution_count": 220,
   "id": "cdfde4d0",
   "metadata": {},
   "outputs": [
    {
     "name": "stdout",
     "output_type": "stream",
     "text": [
      "Model: \"sequential_41\"\n",
      "_________________________________________________________________\n",
      " Layer (type)                Output Shape              Param #   \n",
      "=================================================================\n",
      " dense_97 (Dense)            (None, 256)               5539328   \n",
      "                                                                 \n",
      " dense_98 (Dense)            (None, 128)               32896     \n",
      "                                                                 \n",
      " dense_99 (Dense)            (None, 1)                 129       \n",
      "                                                                 \n",
      "=================================================================\n",
      "Total params: 5,572,353\n",
      "Trainable params: 5,572,353\n",
      "Non-trainable params: 0\n",
      "_________________________________________________________________\n"
     ]
    }
   ],
   "source": [
    "# create model\n",
    "model = Sequential()\n",
    "model.add(Dense(256, activation='relu'))\n",
    "model.add(Dense(128, activation='relu'))\n",
    "model.add(Dense(1, activation='sigmoid'))\n",
    "\n",
    "# Build model\n",
    "model.build(input_shape=(None, 21637)) \n",
    "\n",
    " # Compile model\n",
    "model.compile(loss='binary_crossentropy', optimizer='adam', metrics=['accuracy'])\n",
    "model.summary()"
   ]
  },
  {
   "cell_type": "code",
   "execution_count": 222,
   "id": "8e97615c",
   "metadata": {},
   "outputs": [
    {
     "name": "stdout",
     "output_type": "stream",
     "text": [
      "48/48 [==============================] - 0s 9ms/step - loss: 0.8140 - accuracy: 0.4347\n",
      "Test loss: 0.8139750361442566\n",
      "Test accuracy: 0.4346684217453003\n"
     ]
    }
   ],
   "source": [
    "# Converting to  numpy arras to be compatible with keras\n",
    "X_test = np.array(X_test)\n",
    "y_test = np.array(y_test)\n",
    "\n",
    "# Evaluate the model\n",
    "accuracy = model.evaluate(X_test, y_test)\n",
    "print('Test loss:', accuracy[0])\n",
    "print('Test accuracy:', accuracy[1])"
   ]
  }
 ],
 "metadata": {
  "kernelspec": {
   "display_name": "Python 3 (ipykernel)",
   "language": "python",
   "name": "python3"
  },
  "language_info": {
   "codemirror_mode": {
    "name": "ipython",
    "version": 3
   },
   "file_extension": ".py",
   "mimetype": "text/x-python",
   "name": "python",
   "nbconvert_exporter": "python",
   "pygments_lexer": "ipython3",
   "version": "3.11.0"
  }
 },
 "nbformat": 4,
 "nbformat_minor": 5
}
